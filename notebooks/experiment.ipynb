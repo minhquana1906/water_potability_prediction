{
 "cells": [
  {
   "cell_type": "code",
   "execution_count": 1,
   "metadata": {},
   "outputs": [
    {
     "name": "stderr",
     "output_type": "stream",
     "text": [
      "\u001b[32m2025-03-02 01:54:20.363\u001b[0m | \u001b[1mINFO    \u001b[0m | \u001b[36msrc.config\u001b[0m:\u001b[36m<module>\u001b[0m:\u001b[36m11\u001b[0m - \u001b[1mPROJ_ROOT path is: /home/minhquana/workspace/water_potability_prediction\u001b[0m\n"
     ]
    }
   ],
   "source": [
    "import pandas as pd\n",
    "import numpy as np\n",
    "import matplotlib.pyplot as plt\n",
    "import seaborn as sns\n",
    "import mlflow\n",
    "import dagshub\n",
    "import pickle\n",
    "from loguru import logger\n",
    "from pathlib import Path\n",
    "from mlflow.models import infer_signature\n",
    "from sklearn.ensemble import RandomForestClassifier\n",
    "from sklearn.linear_model import LogisticRegression\n",
    "from sklearn.svm import SVC\n",
    "from sklearn.tree import DecisionTreeClassifier\n",
    "from sklearn.neighbors import KNeighborsClassifier\n",
    "from xgboost import XGBClassifier\n",
    "from lightgbm import LGBMClassifier\n",
    "from catboost import CatBoostClassifier\n",
    "from sklearn.model_selection import train_test_split, RandomizedSearchCV, KFold\n",
    "from sklearn.metrics import (\n",
    "    accuracy_score,\n",
    "    recall_score,\n",
    "    precision_score,\n",
    "    f1_score,\n",
    "    confusion_matrix,\n",
    "    ConfusionMatrixDisplay,\n",
    "    roc_auc_score,\n",
    "    roc_curve,\n",
    "    RocCurveDisplay,\n",
    ")\n",
    "from src.config import DATA_DISK, CONFUSION_MATRIX_DIR, ROC_CURVE_DIR, MODELS_DIR"
   ]
  },
  {
   "cell_type": "code",
   "execution_count": 2,
   "metadata": {},
   "outputs": [
    {
     "data": {
      "text/html": [
       "<pre style=\"white-space:pre;overflow-x:auto;line-height:normal;font-family:Menlo,'DejaVu Sans Mono',consolas,'Courier New',monospace\">Accessing as minhquana1906\n",
       "</pre>\n"
      ],
      "text/plain": [
       "Accessing as minhquana1906\n"
      ]
     },
     "metadata": {},
     "output_type": "display_data"
    },
    {
     "data": {
      "text/html": [
       "<pre style=\"white-space:pre;overflow-x:auto;line-height:normal;font-family:Menlo,'DejaVu Sans Mono',consolas,'Courier New',monospace\">Initialized MLflow to track repo <span style=\"color: #008000; text-decoration-color: #008000\">\"minhquana1906/water_potability_prediction\"</span>\n",
       "</pre>\n"
      ],
      "text/plain": [
       "Initialized MLflow to track repo \u001b[32m\"minhquana1906/water_potability_prediction\"\u001b[0m\n"
      ]
     },
     "metadata": {},
     "output_type": "display_data"
    },
    {
     "data": {
      "text/html": [
       "<pre style=\"white-space:pre;overflow-x:auto;line-height:normal;font-family:Menlo,'DejaVu Sans Mono',consolas,'Courier New',monospace\">Repository minhquana1906/water_potability_prediction initialized!\n",
       "</pre>\n"
      ],
      "text/plain": [
       "Repository minhquana1906/water_potability_prediction initialized!\n"
      ]
     },
     "metadata": {},
     "output_type": "display_data"
    },
    {
     "data": {
      "text/plain": [
       "<Experiment: artifact_location='mlflow-artifacts:/4bca647ae31e4a728b50f5e7c2ab7eea', creation_time=1740852137024, experiment_id='2', last_update_time=1740852137024, lifecycle_stage='active', name='Experiment 4', tags={}>"
      ]
     },
     "execution_count": 2,
     "metadata": {},
     "output_type": "execute_result"
    }
   ],
   "source": [
    "model_path: Path = MODELS_DIR / \"model.pkl\"\n",
    "cm_path: Path = CONFUSION_MATRIX_DIR / \"confusion_matrix.png\"\n",
    "roc_path: Path = ROC_CURVE_DIR / \"roc_curve.png\"\n",
    "\n",
    "dagshub.init(repo_owner=\"minhquana1906\", repo_name=\"water_potability_prediction\", mlflow=True)\n",
    "mlflow.set_tracking_uri(\"https://dagshub.com/minhquana1906/water_potability_prediction.mlflow\")\n",
    "mlflow.set_experiment(\"Experiment 4\")"
   ]
  },
  {
   "cell_type": "code",
   "execution_count": 3,
   "metadata": {},
   "outputs": [],
   "source": [
    "\n",
    "def fill_missing_with_mean(df: pd.DataFrame) -> pd.DataFrame:\n",
    "    return df.fillna(df.mean())"
   ]
  },
  {
   "cell_type": "code",
   "execution_count": 4,
   "metadata": {},
   "outputs": [],
   "source": [
    "data = pd.read_csv(DATA_DISK)\n",
    "train_data, test_data = train_test_split(data, test_size=0.2, random_state=42)\n",
    "\n",
    "train_processed_data = fill_missing_with_mean(train_data)\n",
    "test_processed_data = fill_missing_with_mean(test_data)\n",
    "\n",
    "X_train = train_processed_data.drop(columns=[\"Potability\"], axis=1)\n",
    "y_train = train_processed_data[\"Potability\"]\n",
    "X_test = test_processed_data.drop(columns=[\"Potability\"], axis=1)\n",
    "y_test = test_processed_data[\"Potability\"]"
   ]
  },
  {
   "cell_type": "code",
   "execution_count": 5,
   "metadata": {},
   "outputs": [],
   "source": [
    "model = RandomForestClassifier()"
   ]
  },
  {
   "cell_type": "code",
   "execution_count": 6,
   "metadata": {},
   "outputs": [],
   "source": [
    "# Implement RandomizedSearchCV for hyperparameter tuning\n",
    "param_dist = {\n",
    "    \"n_estimators\": [50, 200, 500, 800, 1000, 1200],\n",
    "    \"max_depth\": [None, 3, 9, 15, 30],\n",
    "    \"min_samples_split\": [2, 8, 15, 100],\n",
    "    \"min_samples_leaf\": [1, 2, 5],\n",
    "}\n",
    "\n",
    "search = RandomizedSearchCV(\n",
    "    model,\n",
    "    param_distributions=param_dist,\n",
    "    n_iter=10,\n",
    "    cv=5,\n",
    "    verbose=2,\n",
    "    n_jobs=-1,\n",
    "    random_state=42,\n",
    "    scoring=\"accuracy\",\n",
    ")"
   ]
  },
  {
   "cell_type": "code",
   "execution_count": 7,
   "metadata": {},
   "outputs": [
    {
     "name": "stdout",
     "output_type": "stream",
     "text": [
      "\u001b[32m2025-03-02 01:54:23.843\u001b[0m | \u001b[1mINFO    \u001b[0m | \u001b[36m__main__\u001b[0m:\u001b[36m<module>\u001b[0m:\u001b[36m2\u001b[0m - \u001b[1mTraining Random Forest model with hyperparameter tuning...\u001b[0m\n",
      "Fitting 5 folds for each of 10 candidates, totalling 50 fits\n",
      "[CV] END max_depth=None, min_samples_leaf=2, min_samples_split=100, n_estimators=50; total time=   0.3s\n",
      "[CV] END max_depth=None, min_samples_leaf=2, min_samples_split=100, n_estimators=50; total time=   0.3s\n",
      "[CV] END max_depth=None, min_samples_leaf=2, min_samples_split=100, n_estimators=50; total time=   0.3s\n",
      "[CV] END max_depth=None, min_samples_leaf=2, min_samples_split=100, n_estimators=50; total time=   0.4s\n",
      "[CV] END max_depth=None, min_samples_leaf=2, min_samples_split=100, n_estimators=50; total time=   0.4s\n",
      "[CV] END max_depth=15, min_samples_leaf=1, min_samples_split=8, n_estimators=500; total time=   3.5s\n",
      "[CV] END max_depth=15, min_samples_leaf=1, min_samples_split=8, n_estimators=500; total time=   3.6s\n",
      "[CV] END max_depth=15, min_samples_leaf=1, min_samples_split=8, n_estimators=500; total time=   3.5s\n",
      "[CV] END max_depth=15, min_samples_leaf=1, min_samples_split=8, n_estimators=500; total time=   3.6s\n",
      "[CV] END max_depth=15, min_samples_leaf=1, min_samples_split=8, n_estimators=500; total time=   3.6s\n",
      "[CV] END max_depth=30, min_samples_leaf=1, min_samples_split=15, n_estimators=500; total time=   3.6s\n",
      "[CV] END max_depth=15, min_samples_leaf=5, min_samples_split=100, n_estimators=800; total time=   4.2s\n",
      "[CV] END max_depth=30, min_samples_leaf=1, min_samples_split=15, n_estimators=500; total time=   4.1s\n",
      "[CV] END max_depth=15, min_samples_leaf=5, min_samples_split=100, n_estimators=800; total time=   4.6s\n",
      "[CV] END max_depth=15, min_samples_leaf=5, min_samples_split=100, n_estimators=800; total time=   4.3s\n",
      "[CV] END max_depth=15, min_samples_leaf=5, min_samples_split=100, n_estimators=800; total time=   4.3s\n",
      "[CV] END max_depth=15, min_samples_leaf=5, min_samples_split=100, n_estimators=800; total time=   4.5s\n",
      "[CV] END max_depth=None, min_samples_leaf=5, min_samples_split=8, n_estimators=500; total time=   3.4s\n",
      "[CV] END max_depth=30, min_samples_leaf=1, min_samples_split=15, n_estimators=500; total time=   3.5s\n",
      "[CV] END max_depth=None, min_samples_leaf=5, min_samples_split=8, n_estimators=500; total time=   3.5s\n",
      "[CV] END max_depth=30, min_samples_leaf=1, min_samples_split=15, n_estimators=500; total time=   3.7s\n",
      "[CV] END max_depth=30, min_samples_leaf=1, min_samples_split=15, n_estimators=500; total time=   3.7s\n",
      "[CV] END max_depth=None, min_samples_leaf=5, min_samples_split=8, n_estimators=500; total time=   3.4s\n",
      "[CV] END max_depth=None, min_samples_leaf=5, min_samples_split=8, n_estimators=500; total time=   3.2s\n",
      "[CV] END max_depth=15, min_samples_leaf=5, min_samples_split=8, n_estimators=500; total time=   3.2s\n",
      "[CV] END max_depth=15, min_samples_leaf=5, min_samples_split=8, n_estimators=500; total time=   3.2s\n",
      "[CV] END max_depth=15, min_samples_leaf=5, min_samples_split=8, n_estimators=500; total time=   3.1s\n",
      "[CV] END max_depth=15, min_samples_leaf=5, min_samples_split=8, n_estimators=500; total time=   3.4s\n",
      "[CV] END max_depth=None, min_samples_leaf=5, min_samples_split=8, n_estimators=500; total time=   3.5s\n",
      "[CV] END max_depth=15, min_samples_leaf=5, min_samples_split=8, n_estimators=500; total time=   3.2s\n",
      "[CV] END max_depth=15, min_samples_leaf=2, min_samples_split=8, n_estimators=500; total time=   3.6s\n",
      "[CV] END max_depth=None, min_samples_leaf=1, min_samples_split=15, n_estimators=800; total time=   5.7s\n",
      "[CV] END max_depth=None, min_samples_leaf=1, min_samples_split=15, n_estimators=800; total time=   5.7s\n",
      "[CV] END max_depth=None, min_samples_leaf=1, min_samples_split=15, n_estimators=800; total time=   5.8s\n",
      "[CV] END max_depth=None, min_samples_leaf=5, min_samples_split=8, n_estimators=800; total time=   5.3s\n",
      "[CV] END max_depth=None, min_samples_leaf=5, min_samples_split=8, n_estimators=800; total time=   5.3s\n",
      "[CV] END max_depth=None, min_samples_leaf=1, min_samples_split=15, n_estimators=800; total time=   6.2s\n",
      "[CV] END max_depth=None, min_samples_leaf=5, min_samples_split=8, n_estimators=800; total time=   5.3s\n",
      "[CV] END max_depth=None, min_samples_leaf=5, min_samples_split=8, n_estimators=800; total time=   5.8s\n",
      "[CV] END max_depth=None, min_samples_leaf=1, min_samples_split=15, n_estimators=800; total time=   6.0s\n",
      "[CV] END max_depth=15, min_samples_leaf=2, min_samples_split=8, n_estimators=500; total time=   3.3s\n",
      "[CV] END max_depth=None, min_samples_leaf=5, min_samples_split=8, n_estimators=800; total time=   5.4s\n",
      "[CV] END max_depth=15, min_samples_leaf=2, min_samples_split=8, n_estimators=500; total time=   3.0s\n",
      "[CV] END max_depth=3, min_samples_leaf=5, min_samples_split=2, n_estimators=1000; total time=   2.1s\n",
      "[CV] END max_depth=3, min_samples_leaf=5, min_samples_split=2, n_estimators=1000; total time=   2.6s\n",
      "[CV] END max_depth=15, min_samples_leaf=2, min_samples_split=8, n_estimators=500; total time=   2.8s\n",
      "[CV] END max_depth=3, min_samples_leaf=5, min_samples_split=2, n_estimators=1000; total time=   2.5s\n",
      "[CV] END max_depth=15, min_samples_leaf=2, min_samples_split=8, n_estimators=500; total time=   2.8s\n",
      "[CV] END max_depth=3, min_samples_leaf=5, min_samples_split=2, n_estimators=1000; total time=   2.6s\n",
      "[CV] END max_depth=3, min_samples_leaf=5, min_samples_split=2, n_estimators=1000; total time=   2.6s\n",
      "🏃 View run Combination 0 at: https://dagshub.com/minhquana1906/water_potability_prediction.mlflow/#/experiments/2/runs/b7fb7d217a094e2f97545d8349363295\n",
      "🧪 View experiment at: https://dagshub.com/minhquana1906/water_potability_prediction.mlflow/#/experiments/2\n",
      "🏃 View run Combination 1 at: https://dagshub.com/minhquana1906/water_potability_prediction.mlflow/#/experiments/2/runs/a3a59d9e1efc4102af264ae0ff12b0d5\n",
      "🧪 View experiment at: https://dagshub.com/minhquana1906/water_potability_prediction.mlflow/#/experiments/2\n",
      "🏃 View run Combination 2 at: https://dagshub.com/minhquana1906/water_potability_prediction.mlflow/#/experiments/2/runs/f6f2d70127354215a9cb94c80bd29121\n",
      "🧪 View experiment at: https://dagshub.com/minhquana1906/water_potability_prediction.mlflow/#/experiments/2\n",
      "🏃 View run Combination 3 at: https://dagshub.com/minhquana1906/water_potability_prediction.mlflow/#/experiments/2/runs/98e4f902fe0349cfa044d78740ddd11e\n",
      "🧪 View experiment at: https://dagshub.com/minhquana1906/water_potability_prediction.mlflow/#/experiments/2\n",
      "🏃 View run Combination 4 at: https://dagshub.com/minhquana1906/water_potability_prediction.mlflow/#/experiments/2/runs/c6fe5762fda843128e310f38e18b1d31\n",
      "🧪 View experiment at: https://dagshub.com/minhquana1906/water_potability_prediction.mlflow/#/experiments/2\n",
      "🏃 View run Combination 5 at: https://dagshub.com/minhquana1906/water_potability_prediction.mlflow/#/experiments/2/runs/ad81b8a340a543deb76d68e38d2ba610\n",
      "🧪 View experiment at: https://dagshub.com/minhquana1906/water_potability_prediction.mlflow/#/experiments/2\n",
      "🏃 View run Combination 6 at: https://dagshub.com/minhquana1906/water_potability_prediction.mlflow/#/experiments/2/runs/31914b139ab243acbc5aa8a963ff8ea3\n",
      "🧪 View experiment at: https://dagshub.com/minhquana1906/water_potability_prediction.mlflow/#/experiments/2\n",
      "🏃 View run Combination 7 at: https://dagshub.com/minhquana1906/water_potability_prediction.mlflow/#/experiments/2/runs/d118939e5ec34c6dba33a69a7379f953\n",
      "🧪 View experiment at: https://dagshub.com/minhquana1906/water_potability_prediction.mlflow/#/experiments/2\n",
      "🏃 View run Combination 8 at: https://dagshub.com/minhquana1906/water_potability_prediction.mlflow/#/experiments/2/runs/3cb8b2e72a6d4708bf1d65e365103166\n",
      "🧪 View experiment at: https://dagshub.com/minhquana1906/water_potability_prediction.mlflow/#/experiments/2\n",
      "🏃 View run Combination 9 at: https://dagshub.com/minhquana1906/water_potability_prediction.mlflow/#/experiments/2/runs/e171132284624b378a3e254e38485947\n",
      "🧪 View experiment at: https://dagshub.com/minhquana1906/water_potability_prediction.mlflow/#/experiments/2\n",
      "\u001b[32m2025-03-02 01:55:23.259\u001b[0m | \u001b[1mINFO    \u001b[0m | \u001b[36m__main__\u001b[0m:\u001b[36m<module>\u001b[0m:\u001b[36m9\u001b[0m - \u001b[1mBest parameters: {'n_estimators': 500, 'min_samples_split': 8, 'min_samples_leaf': 5, 'max_depth': None}\u001b[0m\n",
      "\u001b[32m2025-03-02 01:55:23.260\u001b[0m | \u001b[1mINFO    \u001b[0m | \u001b[36m__main__\u001b[0m:\u001b[36m<module>\u001b[0m:\u001b[36m10\u001b[0m - \u001b[1mLogging best params to MLflow...\u001b[0m\n",
      "\u001b[32m2025-03-02 01:55:24.263\u001b[0m | \u001b[1mINFO    \u001b[0m | \u001b[36m__main__\u001b[0m:\u001b[36m<module>\u001b[0m:\u001b[36m13\u001b[0m - \u001b[1mTraining model with parameters: {'n_estimators': 500, 'min_samples_split': 8, 'min_samples_leaf': 5, 'max_depth': None}\u001b[0m\n",
      "\u001b[32m2025-03-02 01:55:27.365\u001b[0m | \u001b[1mINFO    \u001b[0m | \u001b[36m__main__\u001b[0m:\u001b[36m<module>\u001b[0m:\u001b[36m19\u001b[0m - \u001b[1mEvaluating model...\u001b[0m\n",
      "\u001b[32m2025-03-02 01:55:27.370\u001b[0m | \u001b[1mINFO    \u001b[0m | \u001b[36m__main__\u001b[0m:\u001b[36m<module>\u001b[0m:\u001b[36m25\u001b[0m - \u001b[1mLogging metrics to MLflow...\u001b[0m\n",
      "\u001b[32m2025-03-02 01:55:28.730\u001b[0m | \u001b[1mINFO    \u001b[0m | \u001b[36m__main__\u001b[0m:\u001b[36m<module>\u001b[0m:\u001b[36m33\u001b[0m - \u001b[1mSaving model to /home/minhquana/workspace/water_potability_prediction/models/model.pkl...\u001b[0m\n",
      "\u001b[32m2025-03-02 01:55:28.770\u001b[0m | \u001b[1mINFO    \u001b[0m | \u001b[36m__main__\u001b[0m:\u001b[36m<module>\u001b[0m:\u001b[36m36\u001b[0m - \u001b[1mLogging model to MLflow...\u001b[0m\n",
      "\u001b[32m2025-03-02 01:55:38.104\u001b[0m | \u001b[1mINFO    \u001b[0m | \u001b[36m__main__\u001b[0m:\u001b[36m<module>\u001b[0m:\u001b[36m40\u001b[0m - \u001b[1mGenerating confusion matrix and ROC curve and logging to MLflow...\u001b[0m\n"
     ]
    },
    {
     "name": "stderr",
     "output_type": "stream",
     "text": [
      "/home/minhquana/anaconda3/envs/water_potability_prediction/lib/python3.9/site-packages/sklearn/metrics/_plot/roc_curve.py:189: UserWarning: No artists with labels found to put in legend.  Note that artists whose label start with an underscore are ignored when legend() is called with no argument.\n",
      "  self.ax_.legend(loc=\"lower right\")\n"
     ]
    },
    {
     "name": "stdout",
     "output_type": "stream",
     "text": [
      "\u001b[32m2025-03-02 01:55:39.169\u001b[0m | \u001b[1mINFO    \u001b[0m | \u001b[36m__main__\u001b[0m:\u001b[36m<module>\u001b[0m:\u001b[36m55\u001b[0m - \u001b[1mLogging source code file to MLflow...\u001b[0m\n",
      "🏃 View run Random Forest Tuning at: https://dagshub.com/minhquana1906/water_potability_prediction.mlflow/#/experiments/2/runs/1f6367d382fa4902b8231e59c8b3d84b\n",
      "🧪 View experiment at: https://dagshub.com/minhquana1906/water_potability_prediction.mlflow/#/experiments/2\n"
     ]
    },
    {
     "ename": "NameError",
     "evalue": "name '__file__' is not defined",
     "output_type": "error",
     "traceback": [
      "\u001b[0;31m---------------------------------------------------------------------------\u001b[0m",
      "\u001b[0;31mNameError\u001b[0m                                 Traceback (most recent call last)",
      "Cell \u001b[0;32mIn[7], line 56\u001b[0m\n\u001b[1;32m     53\u001b[0m mlflow\u001b[38;5;241m.\u001b[39mlog_artifact(roc_path)\n\u001b[1;32m     55\u001b[0m logger\u001b[38;5;241m.\u001b[39minfo(\u001b[38;5;124mf\u001b[39m\u001b[38;5;124m\"\u001b[39m\u001b[38;5;124mLogging source code file to MLflow...\u001b[39m\u001b[38;5;124m\"\u001b[39m)\n\u001b[0;32m---> 56\u001b[0m mlflow\u001b[38;5;241m.\u001b[39mlog_artifact(\u001b[38;5;18;43m__file__\u001b[39;49m)\n\u001b[1;32m     58\u001b[0m logger\u001b[38;5;241m.\u001b[39minfo(\u001b[38;5;124mf\u001b[39m\u001b[38;5;124m\"\u001b[39m\u001b[38;5;124mLogging dataset to MLflow...\u001b[39m\u001b[38;5;124m\"\u001b[39m)\n\u001b[1;32m     59\u001b[0m train_df \u001b[38;5;241m=\u001b[39m mlflow\u001b[38;5;241m.\u001b[39mdata\u001b[38;5;241m.\u001b[39mfrom_pandas(train_processed_data)\n",
      "\u001b[0;31mNameError\u001b[0m: name '__file__' is not defined"
     ]
    },
    {
     "data": {
      "image/png": "[encoded data removed]",
      "text/plain": [
       "<Figure size 640x480 with 2 Axes>"
      ]
     },
     "metadata": {},
     "output_type": "display_data"
    },
    {
     "data": {
      "image/png": "[encoded data removed]",
      "text/plain": [
       "<Figure size 640x480 with 1 Axes>"
      ]
     },
     "metadata": {},
     "output_type": "display_data"
    }
   ],
   "source": [
    "with mlflow.start_run(run_name=f\"Random Forest Tuning\") as parent_run:\n",
    "    logger.info(f\"Training Random Forest model with hyperparameter tuning...\")\n",
    "    search.fit(X_train, y_train)\n",
    "    for i in range(len(search.cv_results_[\"params\"])):\n",
    "        with mlflow.start_run(run_name=f\"Combination {i}\", nested=True) as children_run:\n",
    "            mlflow.log_params(search.cv_results_[\"params\"][i])\n",
    "            mlflow.log_metric(\"mean_test_score\", search.cv_results_[\"mean_test_score\"][i])\n",
    "\n",
    "    logger.info(f\"Best parameters: {search.best_params_}\")\n",
    "    logger.info(\"Logging best params to MLflow...\")\n",
    "    mlflow.log_params(search.best_params_)\n",
    "\n",
    "    logger.info(f\"Training model with parameters: {search.best_params_}\")\n",
    "    # model.set_params(**search.best_params_)\n",
    "    model = search.best_estimator_\n",
    "    model.fit(X_train, y_train)\n",
    "    y_pred = model.predict(X_test)\n",
    "\n",
    "    logger.info(f\"Evaluating model...\")\n",
    "    accuracy = accuracy_score(y_test, y_pred)\n",
    "    recall = recall_score(y_test, y_pred)\n",
    "    precision = precision_score(y_test, y_pred)\n",
    "    f1 = f1_score(y_test, y_pred)\n",
    "\n",
    "    logger.info(f\"Logging metrics to MLflow...\")\n",
    "    mlflow.log_metric(\"accuracy\", accuracy)\n",
    "    mlflow.log_metric(\"recall\", recall)\n",
    "    mlflow.log_metric(\"precision\", precision)\n",
    "    mlflow.log_metric(\"f1 score\", f1)\n",
    "\n",
    "    # mlflow.sklearn.log_model(model, model_name)\n",
    "\n",
    "    logger.info(f\"Saving model to {model_path}...\")\n",
    "    pickle.dump(model, open(model_path, \"wb\"))\n",
    "\n",
    "    logger.info(f\"Logging model to MLflow...\")\n",
    "    signature = infer_signature(X_train, model.predict(X_train))\n",
    "    mlflow.sklearn.log_model(model, \"RandomForestClassifier\", signature=signature)\n",
    "\n",
    "    logger.info(f\"Generating confusion matrix and ROC curve and logging to MLflow...\")\n",
    "    cm = confusion_matrix(y_test, y_pred)\n",
    "    cm_display = ConfusionMatrixDisplay(cm).plot(\n",
    "        cmap=\"Blues\",\n",
    "        values_format=\"d\",\n",
    "    )\n",
    "    plt.savefig(cm_path)\n",
    "    mlflow.log_artifact(cm_path)\n",
    "\n",
    "    roc = roc_auc_score(y_test, y_pred)\n",
    "    fpr, tpr = roc_curve(y_test, y_pred)[:2]\n",
    "    roc_display = RocCurveDisplay(fpr=fpr, tpr=tpr).plot()\n",
    "    plt.savefig(roc_path)\n",
    "    mlflow.log_artifact(roc_path)\n",
    "\n",
    "    # logger.info(f\"Logging source code file to MLflow...\")\n",
    "    # mlflow.log_artifact(__file__)\n",
    "\n",
    "    logger.info(f\"Logging dataset to MLflow...\")\n",
    "    train_df = mlflow.data.from_pandas(train_processed_data)\n",
    "    test_df = mlflow.data.from_pandas(test_processed_data)\n",
    "    mlflow.log_input(train_df, \"train\")\n",
    "    mlflow.log_input(test_df, \"test\")\n",
    "\n",
    "    logger.success(f\"Experiment completed successfully!\")\n"
   ]
  }
 ],
 "metadata": {
  "kernelspec": {
   "display_name": "water_potability_prediction",
   "language": "python",
   "name": "python3"
  },
  "language_info": {
   "codemirror_mode": {
    "name": "ipython",
    "version": 3
   },
   "file_extension": ".py",
   "mimetype": "text/x-python",
   "name": "python",
   "nbconvert_exporter": "python",
   "pygments_lexer": "ipython3",
   "version": "3.9.21"
  }
 },
 "nbformat": 4,
 "nbformat_minor": 2
}
